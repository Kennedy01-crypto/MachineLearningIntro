{
 "cells": [
  {
   "cell_type": "code",
   "execution_count": 3,
   "id": "91b1db6d-8a5b-479a-a890-504806ca1a58",
   "metadata": {},
   "outputs": [],
   "source": [
    "import pandas as pd\n",
    "from sklearn.tree import DecisionTreeClassifier\n",
    "from sklearn.model_selection import train_test_split\n",
    "from sklearn.metrics import accuracy_score"
   ]
  },
  {
   "cell_type": "code",
   "execution_count": 4,
   "id": "0bf23cb0-d8d9-482c-801c-e72b8f5bea71",
   "metadata": {},
   "outputs": [
    {
     "name": "stdout",
     "output_type": "stream",
     "text": [
      "0.75\n"
     ]
    }
   ],
   "source": [
    "# Load the music data from a CSV file into a Pandas DataFrame.\n",
    "music_data = pd.read_csv('music.csv')\n",
    "\n",
    "# Separate the features (age, gender) from the target variable (genre).\n",
    "# X represents the features, and y represents the target.\n",
    "X = music_data.drop(columns=['genre'])  # Features (age, gender)\n",
    "y = music_data['genre']  # Target variable (music genre)\n",
    "\n",
    "# Split the data into training and testing sets.\n",
    "# 80% of the data is used for training, and 20% is used for testing.\n",
    "# This allows us to evaluate the model's performance on unseen data.\n",
    "X_train, X_test, y_train, y_test = train_test_split(X, y, test_size=0.2)\n",
    "\n",
    "# Create a Decision Tree Classifier model.\n",
    "model = DecisionTreeClassifier()\n",
    "\n",
    "# Train the model using the training data.\n",
    "# The model learns the relationships between the features and the target variable.\n",
    "model.fit(X_train, y_train)\n",
    "\n",
    "# Make predictions on the test data using the trained model.\n",
    "predictions = model.predict(X_test)\n",
    "\n",
    "# Calculate the accuracy of the model by comparing the predictions to the actual values in the test set.\n",
    "score = accuracy_score(y_test, predictions)\n",
    "\n",
    "# Print the accuracy score.  This represents the percentage of correctly classified instances.\n",
    "print(score)"
   ]
  },
  {
   "cell_type": "code",
   "execution_count": 68,
   "id": "13155519-61a0-4825-bc2e-63db2225d65a",
   "metadata": {
    "scrolled": true
   },
   "outputs": [
    {
     "name": "stderr",
     "output_type": "stream",
     "text": [
      "C:\\Users\\Jim\\anaconda3\\Lib\\site-packages\\sklearn\\base.py:439: UserWarning: X does not have valid feature names, but DecisionTreeClassifier was fitted with feature names\n",
      "  warnings.warn(\n"
     ]
    },
    {
     "data": {
      "text/plain": [
       "array(['HipHop', 'Dance'], dtype=object)"
      ]
     },
     "execution_count": 68,
     "metadata": {},
     "output_type": "execute_result"
    }
   ],
   "source": [
    "import pandas as pd\n",
    "from sklearn.tree import DecisionTreeClassifier\n",
    "import joblib\n",
    "\n",
    "# music_data = pd.read_csv('music.csv')\n",
    "# X = music_data.drop(columns=['genre'])\n",
    "# y = music_data['genre']\n",
    "\n",
    "# model = DecisionTreeClassifier()\n",
    "# model.fit(X, y)\n",
    "\n",
    "# predictions = model.predict([[21,1], [20, 0]])\n",
    "# predictions\n",
    "\n",
    "# joblib.dump(model, 'music-recommender.joblib')\n",
    "joblib.load('music-recommender.joblib')\n",
    "predictions = model.predict([[21,1], [20, 0]])\n",
    "predictions"
   ]
  },
  {
   "cell_type": "code",
   "execution_count": 5,
   "id": "d63bc767-8b3d-4c7d-b8da-4505f5271cd2",
   "metadata": {},
   "outputs": [],
   "source": [
    "import pandas as pd\n",
    "from sklearn.tree import DecisionTreeClassifier\n",
    "from sklearn import tree\n",
    "\n",
    "music_data = pd.read_csv('music.csv')\n",
    "X = music_data.drop(columns=['genre'])\n",
    "y = music_data['genre']\n",
    "\n",
    "model = DecisionTreeClassifier()\n",
    "model.fit(X, y)\n",
    "\n",
    "tree.export_graphviz(model, out_file = 'music-recommender.dot', feature_names =['age', 'gender'], class_names = sorted(y.unique()), label = 'all', rounded = True, filled = True)"
   ]
  },
  {
   "cell_type": "code",
   "execution_count": null,
   "id": "a9aa03e3-7ff4-4e42-9860-3137ca446437",
   "metadata": {},
   "outputs": [],
   "source": []
  }
 ],
 "metadata": {
  "kernelspec": {
   "display_name": "Python 3 (ipykernel)",
   "language": "python",
   "name": "python3"
  },
  "language_info": {
   "codemirror_mode": {
    "name": "ipython",
    "version": 3
   },
   "file_extension": ".py",
   "mimetype": "text/x-python",
   "name": "python",
   "nbconvert_exporter": "python",
   "pygments_lexer": "ipython3",
   "version": "3.11.7"
  }
 },
 "nbformat": 4,
 "nbformat_minor": 5
}
