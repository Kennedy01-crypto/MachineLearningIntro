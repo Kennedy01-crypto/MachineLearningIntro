{
  "cells": [
    {
      "cell_type": "code",
      "execution_count": null,
      "metadata": {},
      "outputs": [],
      "source": [
        "import pandas as pd\n",
        "from sklearn.tree import DecisionTreeClassifier\n",
        "from sklearn.model_selection import train_test_split\n",
        "from sklearn.metrics import accuracy_score\n",
        "\n",
        "# Load the music data from a CSV file into a Pandas DataFrame.\n",
        "music_data = pd.read_csv('music.csv')\n",
        "\n",
        "# Separate the features (age, gender) from the target variable (genre).\n",
        "# X represents the features, and y represents the target.\n",
        "X = music_data.drop(columns=['genre'])  # Features (age, gender)\n",
        "y = music_data['genre']  # Target variable (music genre)\n",
        "\n",
        "# Split the data into training and testing sets.\n",
        "# 80% of the data is used for training, and 20% is used for testing.\n",
        "# This allows us to evaluate the model's performance on unseen data.\n",
        "X_train, X_test, y_train, y_test = train_test_split(X, y, test_size=0.2)\n",
        "\n",
        "# Create a Decision Tree Classifier model with tuned parameters.\n",
        "model = DecisionTreeClassifier(max_depth=5, min_samples_split=2)\n",
        "\n",
        "# Train the model using the training data.\n",
        "# The model learns the relationships between the features and the target variable.\n",
        "model.fit(X_train, y_train)\n",
        "\n",
        "# Make predictions on the test data using the trained model.\n",
        "predictions = model.predict(X_test)\n",
        "\n",
        "# Calculate the accuracy of the model by comparing the predictions to the actual values in the test set.\n",
        "score = accuracy_score(y_test, predictions)\n",
        "\n",
        "# Print the accuracy score. This represents the percentage of correctly classified instances.\n",
        "print(f'Accuracy: {score * 100:.2f}%')\n",
        "\n",
        "# Load the model for predictions on new data.\n",
        "joblib.load('music-recommender.joblib')\n",
        "predictions = model.predict([[21, 1], [20, 0]])\n",
        "print(predictions)\n",
        "\n",
        "# Export the decision tree visualization.\n",
        "from sklearn import tree\n",
        "tree.export_graphviz(model, out_file='music-recommender.dot', feature_names=['age', 'gender'], class_names=sorted(y.unique()), label='all', rounded=True, filled=True)\n"
      ]
    }
  ],
  "metadata": {
    "kernelspec": {
      "display_name": "Python 3",
      "language": "python",
      "name": "python3"
    },
    "language_info": {
      "codemirror_mode": {
        "name": "ipython",
        "version": 3
      },
      "file_extension": ".py",
      "mimetype": "text/x-python",
      "name": "python",
      "nbconvert_exporter": "python",
      "pygments_lexer": "ipython3",
      "version": "3.8.5"
    }
  },
  "nbformat": 4,
  "nbformat_minor": 4
}
